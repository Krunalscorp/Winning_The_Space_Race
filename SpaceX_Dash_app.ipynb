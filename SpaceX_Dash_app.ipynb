{
 "cells": [
  {
   "cell_type": "code",
   "execution_count": 1,
   "id": "af3aab91-b943-422b-b224-cea6a374a50d",
   "metadata": {},
   "outputs": [
    {
     "name": "stdout",
     "output_type": "stream",
     "text": [
      "Requirement already satisfied: dash in c:\\users\\krunal\\appdata\\local\\programs\\python\\python312\\lib\\site-packages (2.16.0)\n",
      "Requirement already satisfied: Flask<3.1,>=1.0.4 in c:\\users\\krunal\\appdata\\local\\programs\\python\\python312\\lib\\site-packages (from dash) (3.0.2)\n",
      "Requirement already satisfied: Werkzeug<3.1 in c:\\users\\krunal\\appdata\\local\\programs\\python\\python312\\lib\\site-packages (from dash) (3.0.1)\n",
      "Requirement already satisfied: plotly>=5.0.0 in c:\\users\\krunal\\appdata\\local\\programs\\python\\python312\\lib\\site-packages (from dash) (5.19.0)\n",
      "Requirement already satisfied: dash-html-components==2.0.0 in c:\\users\\krunal\\appdata\\local\\programs\\python\\python312\\lib\\site-packages (from dash) (2.0.0)\n",
      "Requirement already satisfied: dash-core-components==2.0.0 in c:\\users\\krunal\\appdata\\local\\programs\\python\\python312\\lib\\site-packages (from dash) (2.0.0)\n",
      "Requirement already satisfied: dash-table==5.0.0 in c:\\users\\krunal\\appdata\\local\\programs\\python\\python312\\lib\\site-packages (from dash) (5.0.0)\n",
      "Requirement already satisfied: importlib-metadata in c:\\users\\krunal\\appdata\\local\\programs\\python\\python312\\lib\\site-packages (from dash) (7.0.1)\n",
      "Requirement already satisfied: typing-extensions>=4.1.1 in c:\\users\\krunal\\appdata\\local\\programs\\python\\python312\\lib\\site-packages (from dash) (4.10.0)\n",
      "Requirement already satisfied: requests in c:\\users\\krunal\\appdata\\local\\programs\\python\\python312\\lib\\site-packages (from dash) (2.31.0)\n",
      "Requirement already satisfied: retrying in c:\\users\\krunal\\appdata\\local\\programs\\python\\python312\\lib\\site-packages (from dash) (1.3.4)\n",
      "Requirement already satisfied: nest-asyncio in c:\\users\\krunal\\appdata\\local\\programs\\python\\python312\\lib\\site-packages (from dash) (1.6.0)\n",
      "Requirement already satisfied: setuptools in c:\\users\\krunal\\appdata\\local\\programs\\python\\python312\\lib\\site-packages (from dash) (69.1.1)\n",
      "Requirement already satisfied: Jinja2>=3.1.2 in c:\\users\\krunal\\appdata\\local\\programs\\python\\python312\\lib\\site-packages (from Flask<3.1,>=1.0.4->dash) (3.1.3)\n",
      "Requirement already satisfied: itsdangerous>=2.1.2 in c:\\users\\krunal\\appdata\\local\\programs\\python\\python312\\lib\\site-packages (from Flask<3.1,>=1.0.4->dash) (2.1.2)\n",
      "Requirement already satisfied: click>=8.1.3 in c:\\users\\krunal\\appdata\\local\\programs\\python\\python312\\lib\\site-packages (from Flask<3.1,>=1.0.4->dash) (8.1.7)\n",
      "Requirement already satisfied: blinker>=1.6.2 in c:\\users\\krunal\\appdata\\local\\programs\\python\\python312\\lib\\site-packages (from Flask<3.1,>=1.0.4->dash) (1.7.0)\n",
      "Requirement already satisfied: tenacity>=6.2.0 in c:\\users\\krunal\\appdata\\local\\programs\\python\\python312\\lib\\site-packages (from plotly>=5.0.0->dash) (8.2.3)\n",
      "Requirement already satisfied: packaging in c:\\users\\krunal\\appdata\\local\\programs\\python\\python312\\lib\\site-packages (from plotly>=5.0.0->dash) (23.2)\n",
      "Requirement already satisfied: MarkupSafe>=2.1.1 in c:\\users\\krunal\\appdata\\local\\programs\\python\\python312\\lib\\site-packages (from Werkzeug<3.1->dash) (2.1.5)\n",
      "Requirement already satisfied: zipp>=0.5 in c:\\users\\krunal\\appdata\\local\\programs\\python\\python312\\lib\\site-packages (from importlib-metadata->dash) (3.17.0)\n",
      "Requirement already satisfied: charset-normalizer<4,>=2 in c:\\users\\krunal\\appdata\\local\\programs\\python\\python312\\lib\\site-packages (from requests->dash) (3.3.2)\n",
      "Requirement already satisfied: idna<4,>=2.5 in c:\\users\\krunal\\appdata\\local\\programs\\python\\python312\\lib\\site-packages (from requests->dash) (3.6)\n",
      "Requirement already satisfied: urllib3<3,>=1.21.1 in c:\\users\\krunal\\appdata\\local\\programs\\python\\python312\\lib\\site-packages (from requests->dash) (2.2.1)\n",
      "Requirement already satisfied: certifi>=2017.4.17 in c:\\users\\krunal\\appdata\\local\\programs\\python\\python312\\lib\\site-packages (from requests->dash) (2024.2.2)\n",
      "Requirement already satisfied: six>=1.7.0 in c:\\users\\krunal\\appdata\\local\\programs\\python\\python312\\lib\\site-packages (from retrying->dash) (1.16.0)\n",
      "Requirement already satisfied: colorama in c:\\users\\krunal\\appdata\\local\\programs\\python\\python312\\lib\\site-packages (from click>=8.1.3->Flask<3.1,>=1.0.4->dash) (0.4.6)\n",
      "Note: you may need to restart the kernel to use updated packages.\n"
     ]
    }
   ],
   "source": [
    "pip install dash"
   ]
  },
  {
   "cell_type": "code",
   "execution_count": 2,
   "id": "3ffd5d9c-cccb-4f97-9e38-e574cc2f4d42",
   "metadata": {},
   "outputs": [
    {
     "name": "stderr",
     "output_type": "stream",
     "text": [
      "C:\\Users\\krunal\\AppData\\Local\\Temp\\ipykernel_13692\\1397385073.py:4: UserWarning: \n",
      "The dash_html_components package is deprecated. Please replace\n",
      "`import dash_html_components as html` with `from dash import html`\n",
      "  import dash_html_components as html\n",
      "C:\\Users\\krunal\\AppData\\Local\\Temp\\ipykernel_13692\\1397385073.py:5: UserWarning: \n",
      "The dash_core_components package is deprecated. Please replace\n",
      "`import dash_core_components as dcc` with `from dash import dcc`\n",
      "  import dash_core_components as dcc\n"
     ]
    },
    {
     "name": "stdout",
     "output_type": "stream",
     "text": [
      "-1 / unknown"
     ]
    },
    {
     "data": {
      "text/html": [
       "\n",
       "        <iframe\n",
       "            width=\"100%\"\n",
       "            height=\"650\"\n",
       "            src=\"http://127.0.0.1:8050/\"\n",
       "            frameborder=\"0\"\n",
       "            allowfullscreen\n",
       "            \n",
       "        ></iframe>\n",
       "        "
      ],
      "text/plain": [
       "<IPython.lib.display.IFrame at 0x16ba4c9f380>"
      ]
     },
     "metadata": {},
     "output_type": "display_data"
    }
   ],
   "source": [
    "# Import required libraries\n",
    "import pandas as pd\n",
    "import dash\n",
    "import dash_html_components as html\n",
    "import dash_core_components as dcc\n",
    "from dash.dependencies import Input, Output\n",
    "import plotly.express as px\n",
    "import wget\n",
    "# Read the airline data into pandas dataframe\n",
    "spacex_launch_dash = wget.download('https://github.com/Krunalscorp/Winning_The_Space_Race/blob/main/spacex_launch_dash.csv')\n",
    "spacex_df = pd.read_csv(\"spacex_launch_dash.csv\")\n",
    "max_payload = spacex_df['Payload Mass (kg)'].max()\n",
    "min_payload = spacex_df['Payload Mass (kg)'].min()\n",
    "\n",
    "# Create a dash application\n",
    "app = dash.Dash(__name__)\n",
    "\n",
    "# Create an app layout\n",
    "app.layout = html.Div(children=[html.H1('SpaceX Launch Records Dashboard',\n",
    "                                        style={'textAlign': 'center', 'color': '#503D36',\n",
    "                                               'font-size': 40}),\n",
    "                                # TASK 1: Add a dropdown list to enable Launch Site selection\n",
    "                                # The default select value is for ALL sites\n",
    "                                dcc.Dropdown(id='site-dropdown',\n",
    "                                            options=[\n",
    "                                                {'label':'All Sites', 'value':'ALL'},\n",
    "                                                {'label': 'CCAFS LC-40', 'value': 'CCAFS LC-40'},\n",
    "                                                {'label': 'VAFB SLC-4E', 'value': 'VAFB SLC-4E'},\n",
    "                                                {'label': 'KSC LC-39A', 'value': 'KSC LC-39A'},\n",
    "                                                {'label': 'CCAFS SLC-40', 'value': 'CCAFS SLC-40'}\n",
    "                                                    ],\n",
    "                                                value='ALL', \n",
    "                                                placeholder=\"Select a Launch Site\",\n",
    "                                                searchable=True\n",
    "                                            ),\n",
    "                                html.Br(),\n",
    "\n",
    "                                # TASK 2: Add a pie chart to show the total successful launches count for all sites\n",
    "                                # If a specific launch site was selected, show the Success vs. Failed counts for the site\n",
    "                                html.Div(dcc.Graph(id='success-pie-chart')),\n",
    "                                html.Br(),\n",
    "\n",
    "                                html.P(\"Payload range (Kg):\"),\n",
    "                                # TASK 3: Add a slider to select payload range\n",
    "                                dcc.RangeSlider(id='payload-slider',\n",
    "                                                min=0,\n",
    "                                                max=10000,\n",
    "                                                step=1000,\n",
    "                                                value=[min_payload, max_payload]\n",
    "                                                ),\n",
    "                                # TASK 4: Add a scatter chart to show the correlation between payload and launch success\n",
    "                                html.Div(dcc.Graph(id='success-payload-scatter-chart')),\n",
    "                                ])\n",
    "\n",
    "# TASK 2:\n",
    "# Add a callback function for `site-dropdown` as input, `success-pie-chart` as output\n",
    "@app.callback(Output(component_id='success-pie-chart', component_property='figure'),\n",
    "              Input(component_id='site-dropdown', component_property='value'))\n",
    "def get_pie_chart(entered_site):\n",
    "    filtered_df = spacex_df\n",
    "    if entered_site == 'ALL':\n",
    "        fig = px.pie(filtered_df, values='class', \n",
    "        names='Launch Site', \n",
    "        title='Success Count for all launch sites')\n",
    "        return fig\n",
    "    else:\n",
    "        # return the outcomes piechart for a selected site\n",
    "        filtered_df=spacex_df[spacex_df['Launch Site']== entered_site]\n",
    "        filtered_df=filtered_df.groupby(['Launch Site','class']).size().reset_index(name='class count')\n",
    "        fig=px.pie(filtered_df,values='class count',names='class',title=f\"Total Success Launches for site {entered_site}\")\n",
    "        return fig    \n",
    "# TASK 4:\n",
    "# Add a callback function for `site-dropdown` and `payload-slider` as inputs, `success-payload-scatter-chart` as output\n",
    "@app.callback(Output(component_id='success-payload-scatter-chart', component_property='figure'),\n",
    "              [Input(component_id='site-dropdown',component_property='value'),\n",
    "                Input(component_id='payload-slider',component_property='value')])\n",
    "\n",
    "def scatter(entered_site,payload):\n",
    "    filtered_df = spacex_df[spacex_df['Payload Mass (kg)'].between(payload[0],payload[1])]\n",
    "    # thought reusing filtered_df may cause issues, but tried it out of curiosity and it seems to be working fine\n",
    "    \n",
    "    if entered_site=='ALL':\n",
    "        fig=px.scatter(filtered_df,x='Payload Mass (kg)',y='class',color='Booster Version Category',title='Success count on Payload mass for all sites')\n",
    "        return fig\n",
    "    else:\n",
    "        fig=px.scatter(filtered_df[filtered_df['Launch Site']==entered_site],x='Payload Mass (kg)',y='class',color='Booster Version Category',title=f\"Success count on Payload mass for site {entered_site}\")\n",
    "        return fig\n",
    "\n",
    "# Run the app\n",
    "if __name__ == '__main__':\n",
    "    app.run_server()"
   ]
  },
  {
   "cell_type": "code",
   "execution_count": null,
   "id": "65f7daa0-db06-4267-aef3-2d648773e5b2",
   "metadata": {},
   "outputs": [],
   "source": []
  }
 ],
 "metadata": {
  "kernelspec": {
   "display_name": "Python 3 (ipykernel)",
   "language": "python",
   "name": "python3"
  },
  "language_info": {
   "codemirror_mode": {
    "name": "ipython",
    "version": 3
   },
   "file_extension": ".py",
   "mimetype": "text/x-python",
   "name": "python",
   "nbconvert_exporter": "python",
   "pygments_lexer": "ipython3",
   "version": "3.12.2"
  }
 },
 "nbformat": 4,
 "nbformat_minor": 5
}
